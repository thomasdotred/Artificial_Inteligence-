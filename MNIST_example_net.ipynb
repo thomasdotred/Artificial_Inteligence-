{
  "nbformat": 4,
  "nbformat_minor": 0,
  "metadata": {
    "colab": {
      "name": "MNIST_example_net.ipynb",
      "version": "0.3.2",
      "provenance": [],
      "collapsed_sections": [],
      "toc_visible": true,
      "include_colab_link": true
    },
    "kernelspec": {
      "name": "python3",
      "display_name": "Python 3"
    },
    "accelerator": "GPU"
  },
  "cells": [
    {
      "cell_type": "markdown",
      "metadata": {
        "id": "view-in-github",
        "colab_type": "text"
      },
      "source": [
        "<a href=\"https://colab.research.google.com/github/thomasdotred/Artificial_Inteligence-/blob/master/MNIST_example_net.ipynb\" target=\"_parent\"><img src=\"https://colab.research.google.com/assets/colab-badge.svg\" alt=\"Open In Colab\"/></a>"
      ]
    },
    {
      "metadata": {
        "id": "OjY2cEFHGSFA",
        "colab_type": "text"
      },
      "cell_type": "markdown",
      "source": [
        "# Import TF and MNIST"
      ]
    },
    {
      "metadata": {
        "id": "EmhrY70dm5Ab",
        "colab_type": "code",
        "colab": {}
      },
      "cell_type": "code",
      "source": [
        "import tensorflow as tf\n",
        "from tensorflow.examples.tutorials.mnist import input_data\n",
        "from tensorflow.keras.callbacks import TensorBoard"
      ],
      "execution_count": 0,
      "outputs": []
    },
    {
      "metadata": {
        "id": "9dQa-_ixm9Rr",
        "colab_type": "code",
        "outputId": "a77769c0-89e2-48bf-e01b-ec47022c9180",
        "colab": {
          "base_uri": "https://localhost:8080/",
          "height": 541
        }
      },
      "cell_type": "code",
      "source": [
        "mnist = input_data.read_data_sets('MNIST_data', one_hot =True)"
      ],
      "execution_count": 0,
      "outputs": [
        {
          "output_type": "stream",
          "text": [
            "WARNING:tensorflow:From <ipython-input-2-c629d2d722e6>:1: read_data_sets (from tensorflow.contrib.learn.python.learn.datasets.mnist) is deprecated and will be removed in a future version.\n",
            "Instructions for updating:\n",
            "Please use alternatives such as official/mnist/dataset.py from tensorflow/models.\n",
            "WARNING:tensorflow:From /usr/local/lib/python3.6/dist-packages/tensorflow/contrib/learn/python/learn/datasets/mnist.py:260: maybe_download (from tensorflow.contrib.learn.python.learn.datasets.base) is deprecated and will be removed in a future version.\n",
            "Instructions for updating:\n",
            "Please write your own downloading logic.\n",
            "WARNING:tensorflow:From /usr/local/lib/python3.6/dist-packages/tensorflow/contrib/learn/python/learn/datasets/base.py:252: _internal_retry.<locals>.wrap.<locals>.wrapped_fn (from tensorflow.contrib.learn.python.learn.datasets.base) is deprecated and will be removed in a future version.\n",
            "Instructions for updating:\n",
            "Please use urllib or similar directly.\n",
            "Successfully downloaded train-images-idx3-ubyte.gz 9912422 bytes.\n",
            "WARNING:tensorflow:From /usr/local/lib/python3.6/dist-packages/tensorflow/contrib/learn/python/learn/datasets/mnist.py:262: extract_images (from tensorflow.contrib.learn.python.learn.datasets.mnist) is deprecated and will be removed in a future version.\n",
            "Instructions for updating:\n",
            "Please use tf.data to implement this functionality.\n",
            "Extracting MNIST_data/train-images-idx3-ubyte.gz\n",
            "Successfully downloaded train-labels-idx1-ubyte.gz 28881 bytes.\n",
            "WARNING:tensorflow:From /usr/local/lib/python3.6/dist-packages/tensorflow/contrib/learn/python/learn/datasets/mnist.py:267: extract_labels (from tensorflow.contrib.learn.python.learn.datasets.mnist) is deprecated and will be removed in a future version.\n",
            "Instructions for updating:\n",
            "Please use tf.data to implement this functionality.\n",
            "Extracting MNIST_data/train-labels-idx1-ubyte.gz\n",
            "WARNING:tensorflow:From /usr/local/lib/python3.6/dist-packages/tensorflow/contrib/learn/python/learn/datasets/mnist.py:110: dense_to_one_hot (from tensorflow.contrib.learn.python.learn.datasets.mnist) is deprecated and will be removed in a future version.\n",
            "Instructions for updating:\n",
            "Please use tf.one_hot on tensors.\n",
            "Successfully downloaded t10k-images-idx3-ubyte.gz 1648877 bytes.\n",
            "Extracting MNIST_data/t10k-images-idx3-ubyte.gz\n",
            "Successfully downloaded t10k-labels-idx1-ubyte.gz 4542 bytes.\n",
            "Extracting MNIST_data/t10k-labels-idx1-ubyte.gz\n",
            "WARNING:tensorflow:From /usr/local/lib/python3.6/dist-packages/tensorflow/contrib/learn/python/learn/datasets/mnist.py:290: DataSet.__init__ (from tensorflow.contrib.learn.python.learn.datasets.mnist) is deprecated and will be removed in a future version.\n",
            "Instructions for updating:\n",
            "Please use alternatives such as official/mnist/dataset.py from tensorflow/models.\n"
          ],
          "name": "stdout"
        }
      ]
    },
    {
      "metadata": {
        "id": "LGlakumxU1H5",
        "colab_type": "code",
        "outputId": "38144ea4-169b-4310-f8fe-8246d345cc73",
        "colab": {
          "base_uri": "https://localhost:8080/",
          "height": 332
        }
      },
      "cell_type": "code",
      "source": [
        "!nvidia-smi"
      ],
      "execution_count": 0,
      "outputs": [
        {
          "output_type": "stream",
          "text": [
            "Wed Apr 10 10:07:54 2019       \n",
            "+-----------------------------------------------------------------------------+\n",
            "| NVIDIA-SMI 418.56       Driver Version: 410.79       CUDA Version: 10.0     |\n",
            "|-------------------------------+----------------------+----------------------+\n",
            "| GPU  Name        Persistence-M| Bus-Id        Disp.A | Volatile Uncorr. ECC |\n",
            "| Fan  Temp  Perf  Pwr:Usage/Cap|         Memory-Usage | GPU-Util  Compute M. |\n",
            "|===============================+======================+======================|\n",
            "|   0  Tesla K80           Off  | 00000000:00:04.0 Off |                    0 |\n",
            "| N/A   45C    P8    26W / 149W |      1MiB / 11441MiB |      0%      Default |\n",
            "+-------------------------------+----------------------+----------------------+\n",
            "                                                                               \n",
            "+-----------------------------------------------------------------------------+\n",
            "| Processes:                                                       GPU Memory |\n",
            "|  GPU       PID   Type   Process name                             Usage      |\n",
            "|=============================================================================|\n",
            "|  No running processes found                                                 |\n",
            "+-----------------------------------------------------------------------------+\n"
          ],
          "name": "stdout"
        }
      ]
    },
    {
      "metadata": {
        "id": "vxdWMsBQF-K6",
        "colab_type": "text"
      },
      "cell_type": "markdown",
      "source": [
        "# Helper functions"
      ]
    },
    {
      "metadata": {
        "id": "vXT8cXvQGESr",
        "colab_type": "text"
      },
      "cell_type": "markdown",
      "source": [
        "## initalizer functions"
      ]
    },
    {
      "metadata": {
        "id": "5R8ffp19nRuD",
        "colab_type": "code",
        "colab": {}
      },
      "cell_type": "code",
      "source": [
        "# init weights\n",
        "def init_weights(shape):\n",
        "  init_random_dist = tf.truncated_normal(shape, stddev=0.1)\n",
        "  return tf.Variable(init_random_dist)\n"
      ],
      "execution_count": 0,
      "outputs": []
    },
    {
      "metadata": {
        "id": "qXMlbvblnYIS",
        "colab_type": "code",
        "colab": {}
      },
      "cell_type": "code",
      "source": [
        "# init bias\n",
        "def init_bias(shape):\n",
        "  init_bias_vals = tf.constant(0.1, shape=[shape])\n",
        "  return tf.Variable(init_bias_vals)"
      ],
      "execution_count": 0,
      "outputs": []
    },
    {
      "metadata": {
        "id": "d0meP3tzGKe-",
        "colab_type": "text"
      },
      "cell_type": "markdown",
      "source": [
        "## layer functions"
      ]
    },
    {
      "metadata": {
        "id": "yPn03gFPnis6",
        "colab_type": "code",
        "colab": {}
      },
      "cell_type": "code",
      "source": [
        "# Conv2d\n",
        "def conv2d(x,w):\n",
        "  # x ---> [batch, H, W, Chan]\n",
        "  # w ---> [filter H, filter W, Channels IN, Channels OUT]\n",
        "  return tf.nn.conv2d(x, w, strides=[1,1,1,1], padding='SAME', use_cudnn_on_gpu=True)"
      ],
      "execution_count": 0,
      "outputs": []
    },
    {
      "metadata": {
        "id": "TBhIrYD5nj63",
        "colab_type": "code",
        "colab": {}
      },
      "cell_type": "code",
      "source": [
        "# POOLING\n",
        "def max_pool_2by2(x):\n",
        "  #x ---> [batch,h, w, c]\n",
        "  # only poolig in h and w so [1,2,2,1]\n",
        "  return tf.nn.max_pool(x, ksize=[1,2,2,1], strides=[1,2,2,1], padding='SAME')"
      ],
      "execution_count": 0,
      "outputs": []
    },
    {
      "metadata": {
        "id": "zimlBTomrC7V",
        "colab_type": "code",
        "colab": {}
      },
      "cell_type": "code",
      "source": [
        "# Conv layer\n",
        "def conv_layer(input_x, shape):\n",
        "  w = init_weights(shape)\n",
        "  b = init_bias(shape[3])\n",
        "  return tf.nn.relu(conv2d(input_x, w) + b)"
      ],
      "execution_count": 0,
      "outputs": []
    },
    {
      "metadata": {
        "id": "Cm2qbZxwrbCH",
        "colab_type": "code",
        "colab": {}
      },
      "cell_type": "code",
      "source": [
        "# Fully connected layer\n",
        "def normal_full_layer(input_layer, size):\n",
        "  input_size = int(input_layer.get_shape()[1])\n",
        "  w = init_weights([input_size, size])\n",
        "  b = init_bias(size)\n",
        "  return tf.matmul(input_layer, w) + b"
      ],
      "execution_count": 0,
      "outputs": []
    },
    {
      "metadata": {
        "id": "Vyrv30RCGXfF",
        "colab_type": "text"
      },
      "cell_type": "markdown",
      "source": [
        "# Network"
      ]
    },
    {
      "metadata": {
        "id": "R9L3omc1GelP",
        "colab_type": "text"
      },
      "cell_type": "markdown",
      "source": [
        "## Prepare"
      ]
    },
    {
      "metadata": {
        "id": "s-F5f-G5wBBz",
        "colab_type": "code",
        "colab": {}
      },
      "cell_type": "code",
      "source": [
        "# Placeholders\n",
        "x = tf.placeholder(tf.float32, shape=[None, 784]) \n",
        "y_true = tf.placeholder(tf.float32, shape=[None, 10])\n",
        "x_image = tf.reshape(x, [-1, 28, 28, 1])"
      ],
      "execution_count": 0,
      "outputs": []
    },
    {
      "metadata": {
        "id": "lFKhHngxGhfr",
        "colab_type": "text"
      },
      "cell_type": "markdown",
      "source": [
        "## Network layer design"
      ]
    },
    {
      "metadata": {
        "id": "NsawsmKbwTWz",
        "colab_type": "code",
        "outputId": "60902922-11b9-452c-987d-327459cf7e9c",
        "colab": {
          "base_uri": "https://localhost:8080/",
          "height": 89
        }
      },
      "cell_type": "code",
      "source": [
        "# Layers\n",
        "\n",
        "convo_1 = conv_layer(x_image, shape=[5,5,1,32])\n",
        "convo_1_pool = max_pool_2by2(convo_1)\n",
        "\n",
        "convo_2 = conv_layer(convo_1_pool, shape = [5,5,32,64])\n",
        "convo_2_pool = max_pool_2by2(convo_2)\n",
        "\n",
        "convo_2_flat = tf.reshape(convo_2_pool, [-1, 7*7*64])\n",
        "full_layer_1 = tf.nn.relu(normal_full_layer(convo_2_flat, 1024))\n",
        "\n",
        "# Dropout \n",
        "hold_prob = tf.placeholder(tf.float32)\n",
        "full_1_dropout = tf.nn.dropout(full_layer_1, rate=hold_prob)\n",
        "\n",
        "y_pred = normal_full_layer(full_1_dropout, 10)"
      ],
      "execution_count": 0,
      "outputs": [
        {
          "output_type": "stream",
          "text": [
            "WARNING:tensorflow:From /usr/local/lib/python3.6/dist-packages/tensorflow/python/framework/op_def_library.py:263: colocate_with (from tensorflow.python.framework.ops) is deprecated and will be removed in a future version.\n",
            "Instructions for updating:\n",
            "Colocations handled automatically by placer.\n"
          ],
          "name": "stdout"
        }
      ]
    },
    {
      "metadata": {
        "id": "68sKxN-rGpH_",
        "colab_type": "text"
      },
      "cell_type": "markdown",
      "source": [
        "## Network training methods"
      ]
    },
    {
      "metadata": {
        "id": "CNqVPAZox1qa",
        "colab_type": "code",
        "colab": {}
      },
      "cell_type": "code",
      "source": [
        "# Loss fuction\n",
        "cross_entropy = tf.reduce_mean(tf.nn.softmax_cross_entropy_with_logits_v2(labels=y_true, logits=y_pred))\n",
        "\n",
        "# optimizer\n",
        "optimizer = tf.train.AdamOptimizer(learning_rate=0.001)\n",
        "train = optimizer.minimize(cross_entropy)"
      ],
      "execution_count": 0,
      "outputs": []
    },
    {
      "metadata": {
        "id": "yxWdtSdpGxif",
        "colab_type": "text"
      },
      "cell_type": "markdown",
      "source": [
        "# Initalize and run session"
      ]
    },
    {
      "metadata": {
        "id": "vRVpY65G1snn",
        "colab_type": "code",
        "outputId": "a68993fa-4a27-41a9-e5fd-2b2507a1f770",
        "colab": {
          "base_uri": "https://localhost:8080/",
          "height": 451
        }
      },
      "cell_type": "code",
      "source": [
        "init = tf.global_variables_initializer()\n",
        "epochs = 500\n",
        "\n",
        "with tf.Session() as sess:\n",
        "  \n",
        "  writer = tf.summary.FileWriter( './logs/1/train ', sess.graph)\n",
        "  \n",
        "  for i in range(epochs):\n",
        "    sess.run(init)\n",
        "\n",
        "    batch_x, batch_y = mnist.train.next_batch(50)\n",
        "    feed = {\n",
        "        x:batch_x,\n",
        "        y_true:batch_y,\n",
        "        hold_prob:0.5\n",
        "    }\n",
        "    sess.run(train, feed_dict=feed)\n",
        "    \n",
        "    if i%100 ==0:\n",
        "      print('on step: {}'.format(i))\n",
        "      print('Accuracy: ')\n",
        "      matches = tf.equal(tf.argmax(y_pred, 1), tf.argmax(y_true,1))\n",
        "      acc = tf.reduce_mean(tf.cast(matches, tf.float32))\n",
        "      \n",
        "      \n",
        "      val_feed = {\n",
        "        x:mnist.test.images,\n",
        "        y_true:mnist.test.labels,\n",
        "        hold_prob:1.0\n",
        "      }\n",
        "      print(sess.run(acc,feed_dict=val_feed))\n",
        "      print('\\n')\n",
        "  writer.close()"
      ],
      "execution_count": 0,
      "outputs": [
        {
          "output_type": "stream",
          "text": [
            "on step: 0\n",
            "Accuracy: \n",
            "0.098\n",
            "\n",
            "\n",
            "on step: 100\n",
            "Accuracy: \n",
            "0.098\n",
            "\n",
            "\n",
            "on step: 200\n",
            "Accuracy: \n",
            "0.098\n",
            "\n",
            "\n",
            "on step: 300\n",
            "Accuracy: \n",
            "0.098\n",
            "\n",
            "\n",
            "on step: 400\n",
            "Accuracy: \n",
            "0.098\n",
            "\n",
            "\n"
          ],
          "name": "stdout"
        }
      ]
    },
    {
      "metadata": {
        "id": "G0JaQf0Q1ufC",
        "colab_type": "code",
        "colab": {}
      },
      "cell_type": "code",
      "source": [
        ""
      ],
      "execution_count": 0,
      "outputs": []
    },
    {
      "metadata": {
        "id": "_xSweJylxSEF",
        "colab_type": "code",
        "colab": {}
      },
      "cell_type": "code",
      "source": [
        ""
      ],
      "execution_count": 0,
      "outputs": []
    },
    {
      "metadata": {
        "id": "ZCZfHONE5jsl",
        "colab_type": "code",
        "colab": {}
      },
      "cell_type": "code",
      "source": [
        ""
      ],
      "execution_count": 0,
      "outputs": []
    }
  ]
}